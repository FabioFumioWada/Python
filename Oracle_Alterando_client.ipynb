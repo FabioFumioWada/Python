{
 "metadata": {
  "language_info": {
   "codemirror_mode": {
    "name": "ipython",
    "version": 3
   },
   "file_extension": ".py",
   "mimetype": "text/x-python",
   "name": "python",
   "nbconvert_exporter": "python",
   "pygments_lexer": "ipython3",
   "version": "3.9.0-final"
  },
  "orig_nbformat": 2,
  "kernelspec": {
   "name": "python3",
   "display_name": "Python 3.9.0 64-bit",
   "metadata": {
    "interpreter": {
     "hash": "0a428b1c0b5277846d4842572b5e4f0aa81fcf8a910491724b5e39db53f9b80f"
    }
   }
  }
 },
 "nbformat": 4,
 "nbformat_minor": 2,
 "cells": [
  {
   "cell_type": "code",
   "execution_count": 23,
   "metadata": {},
   "outputs": [],
   "source": [
    "import os\n",
    "import platform\n",
    "import cx_Oracle\n",
    "import pandas as pd\n",
    "\n",
    "LOCATION = r\"C:\\app\\A98718\\64bits\"\n",
    "    #print(\"ARCH:\", platform.architecture())\n",
    "    #print(\"FILES AT LOCATION:\")\n",
    "    #for name in os.listdir(LOCATION):\n",
    "    #    print(name)\n",
    "\n",
    "os.environ[\"PATH\"] = LOCATION + \";\" + os.environ[\"PATH\"]\n",
    "\n",
    "connection_oracle = cx_Oracle.connect('user/senha@instancia')\n",
    "\n",
    "cursor_oracle = connection_oracle.cursor()\n",
    "\n",
    "v_codcoligada = '7'\n",
    "\n",
    "pd.read_sql(('SELECT TO_CHAR(GFILIAL.CODCOLIGADA)||'-'||TO_CHAR(GFILIAL.CODFILIAL) LEGACY_ID, NOME NAME '\n",
    "             'FROM RM.GFILIAL WHERE CODCOLIGADA = :CODCOLIGADA'),connection_oracle,params={CODCOLIGADA:v_codcoligada})\n",
    "\n",
    "#querystring = ('SELECT TO_CHAR(GFILIAL.CODCOLIGADA)||'-'||TO_CHAR(GFILIAL.CODFILIAL) LEGACY_ID, NOME NAME FROM RM.GFILIAL WHERE CODCOLIGADA = '+ str(v_codcoligada))\n",
    "\n",
    "#print(querystring)\n",
    "\n",
    "#df_ora = pd.read_sql(querystring,con=connection_oracle)\n",
    "\n",
    "#result = cursor_oracle.execute(querystring)\n",
    "\n",
    "#for row in result:\n",
    "#    print(row)\n",
    "\n",
    "cursor_oracle.close()\n",
    "connection_oracle.close()"
   ]
  },
  {
   "cell_type": "code",
   "execution_count": 1,
   "metadata": {},
   "outputs": [
    {
     "output_type": "error",
     "ename": "NameError",
     "evalue": "name 'df_ora' is not defined",
     "traceback": [
      "\u001b[1;31m---------------------------------------------------------------------------\u001b[0m",
      "\u001b[1;31mNameError\u001b[0m                                 Traceback (most recent call last)",
      "\u001b[1;32m<ipython-input-1-baaf00930fc4>\u001b[0m in \u001b[0;36m<module>\u001b[1;34m\u001b[0m\n\u001b[1;32m----> 1\u001b[1;33m \u001b[0mdf_ora\u001b[0m\u001b[1;33m\u001b[0m\u001b[1;33m\u001b[0m\u001b[0m\n\u001b[0m",
      "\u001b[1;31mNameError\u001b[0m: name 'df_ora' is not defined"
     ]
    }
   ],
   "source": [
    "df_ora"
   ]
  },
  {
   "cell_type": "code",
   "execution_count": null,
   "metadata": {},
   "outputs": [],
   "source": []
  }
 ]
}